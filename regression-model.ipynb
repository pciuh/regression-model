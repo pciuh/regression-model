{
 "cells": [
  {
   "cell_type": "markdown",
   "id": "62802a04-586a-42ec-a76c-34b7c1e7c273",
   "metadata": {},
   "source": [
    "# Regression Model Project\n",
    "# Project Overview\n",
    "\n",
    "This project focuses on building and validating a regression model using the provided dataset. The data was divided into two groups, referred to as \"group1\" and \"group2.\" The regression model for both groups was assumed to be a polynomial function involving five variables: `time`, `var1`, `var2`, `var3`, and `var4`.\n",
    "\n",
    "## Model Assumptions and Approach\n",
    "\n",
    "- **Polynomial Regression Model**: The model was designed as a polynomial of the five variables mentioned above. The exponents for each variable were selected to maximize the R² (R-squared) value and minimize the p-value of the individual coefficients.\n",
    "\n",
    "- **Ordinary Least Squares (OLS) Method**: The model was implemented using the Ordinary Least Squares (OLS) method from the `statsmodels.api` package in Python.\n",
    "\n",
    "## Data Splitting\n",
    "\n",
    "The dataset was split into training and testing sets to evaluate the model's performance. The number of samples in each group is summarized as follows:\n",
    "- **Training Data Count**: The number of samples used for training the model.\n",
    "- **Testing Data Count**: The number of samples used for testing the model.\n",
    "\n",
    "## Results and Visualization\n",
    "\n",
    "- **Analysis Results**: The results of the regression analysis are presented in the accompanying report.\n",
    "- **Scatter Plots**: Scatter plots of predicted vs actual values (test data) are provided in the appendices. These plots include residuals that are gradually colored to visualize the model's performance.\n",
    "\n",
    "## Conclusion\n",
    "\n",
    "This project applies polynomial regression using OLS to model the relationship between the dependent variable and five independent variables across two distinct groups in the dataset. The performance metrics and visualizations help in understanding the model's accuracy and predictive power."
   ]
  },
  {
   "cell_type": "code",
   "execution_count": 1,
   "id": "58b45089-c9cc-4213-bef0-d7b1b3c9991a",
   "metadata": {},
   "outputs": [],
   "source": [
    "import numpy as np\n",
    "import pandas as pd\n",
    "import matplotlib.pyplot as plt\n",
    "import seaborn as sns\n",
    "import statsmodels.api as sm\n",
    "\n",
    "from sklearn.model_selection import train_test_split\n",
    "from statsmodels.tools.eval_measures import mse, rmse\n",
    "from sklearn.metrics import mean_absolute_error"
   ]
  },
  {
   "cell_type": "code",
   "execution_count": null,
   "id": "ca414f87-6fdc-4f54-9e2c-980b325a5d90",
   "metadata": {},
   "outputs": [],
   "source": []
  }
 ],
 "metadata": {
  "kernelspec": {
   "display_name": "Python 3 (ipykernel)",
   "language": "python",
   "name": "python3"
  },
  "language_info": {
   "codemirror_mode": {
    "name": "ipython",
    "version": 3
   },
   "file_extension": ".py",
   "mimetype": "text/x-python",
   "name": "python",
   "nbconvert_exporter": "python",
   "pygments_lexer": "ipython3",
   "version": "3.12.5"
  }
 },
 "nbformat": 4,
 "nbformat_minor": 5
}
