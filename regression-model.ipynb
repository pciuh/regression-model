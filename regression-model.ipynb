{
 "cells": [
  {
   "cell_type": "markdown",
   "id": "ef2385cb-ea8d-46d0-b8b1-e12a3ebd6456",
   "metadata": {},
   "source": [
    "# Regression Model Project\n",
    "## Project Overview\n",
    "\n",
    "This project focuses on building and validating a regression model using the provided dataset. The data was divided into two groups, referred to as \"group1\" and \"group2.\" The regression model for both groups was assumed to be a polynomial function involving five variables: `time`, `var1`, `var2`, `var3`, and `var4`.\n",
    "\n",
    "## Model Assumptions and Approach\n",
    "\n",
    "- **Polynomial Regression Model**: The model was designed as a polynomial of the five variables mentioned above. The exponents for each variable were selected to maximize the R² (R-squared) value and minimize the p-value of the individual coefficients.\n",
    "\n",
    "- **Ordinary Least Squares (OLS) Method**: The model was implemented using the *LinearRegression* method from the `scikit-learn` package in Python. Furthermore, *ElasticNet* and *Lasso* regressions were applied, with parameters optimized by *RandomizedSearchCV*.\n",
    "\n",
    "## Data Splitting\n",
    "\n",
    "The dataset was split into training and testing sets to evaluate the model's performance. The number of samples in each group is summarized as follows:\n",
    "- **Training Data Count**: The number of samples used for training the model.\n",
    "- **Testing Data Count**: The number of samples used for testing the model.\n",
    "\n",
    "## Results and Visualization\n",
    "\n",
    "- **Analysis Results**: The results of the regression analysis are presented in the accompanying report.\n",
    "- **Scatter Plots**: Scatter plots of predicted vs actual values (test data) are provided at the end. These plots include residuals that are gradually colored to visualize the model's performance."
   ]
  },
  {
   "cell_type": "markdown",
   "id": "fdcc5b25-7909-47d7-b0e7-cfe0e8abce89",
   "metadata": {},
   "source": [
    "## Python code for realization\n",
    "### Importing necessary modules"
   ]
  },
  {
   "cell_type": "code",
   "execution_count": 1,
   "id": "52e71a9d-9ce0-4d76-a26e-61d01bea2f90",
   "metadata": {},
   "outputs": [],
   "source": [
    "%matplotlib inline"
   ]
  },
  {
   "cell_type": "code",
   "execution_count": null,
   "id": "58b45089-c9cc-4213-bef0-d7b1b3c9991a",
   "metadata": {},
   "outputs": [],
   "source": [
    "import numpy as np\n",
    "import pandas as pd\n",
    "import matplotlib.pyplot as plt\n",
    "import seaborn as sns\n",
    "import statsmodels.api as sm\n",
    "\n",
    "from statsmodels.tools.eval_measures import rmse\n",
    "\n",
    "from sklearn.model_selection import train_test_split\n",
    "from sklearn.linear_model import LinearRegression, Ridge, ElasticNet\n",
    "from sklearn.model_selection import RandomizedSearchCV"
   ]
  },
  {
   "cell_type": "markdown",
   "id": "a9ff0412-2304-43d7-9880-1d1cdf140b69",
   "metadata": {},
   "source": [
    "### Reading data"
   ]
  },
  {
   "cell_type": "code",
   "execution_count": null,
   "id": "0942016d-395f-43ae-8a0c-732e5c70b4af",
   "metadata": {},
   "outputs": [],
   "source": [
    "iDir = 'input/'\n",
    "pDir = 'plots/'\n",
    "\n",
    "fnam = 'data.csv'\n",
    "df = pd.read_csv(iDir + fnam,sep=',',header=0)\n",
    "display(df.head())\n",
    "display(df.tail())\n"
   ]
  },
  {
   "cell_type": "markdown",
   "id": "7723a8ec-12fc-455c-9f32-3877e2df88c1",
   "metadata": {},
   "source": [
    "File *data.csv* contains data compound with variables *time*, *var1*, *var2*, *var3*, *var4* which will be features, and *dependent* variable which will be output of regression."
   ]
  },
  {
   "cell_type": "markdown",
   "id": "7a001f37-021b-46d3-ad22-f2833707c155",
   "metadata": {},
   "source": [
    "### Feature inspection\n",
    "Feature inspection is carried out by plotting pairplot for each group of features. It should reveal dependance of each feature and outliers existance."
   ]
  },
  {
   "cell_type": "code",
   "execution_count": null,
   "id": "6cc7ff55-7344-41f7-9f1c-af8b5d4cff60",
   "metadata": {},
   "outputs": [],
   "source": [
    "fig = sns.pairplot(df,kind='reg', diag_kind='kde',corner=True,hue='group',aspect=1)\n",
    "fig.savefig(pDir + 'pairplot-all.png',dpi=150)"
   ]
  },
  {
   "cell_type": "markdown",
   "id": "dcbd15b5-47bd-48e6-a65f-bd0f1098c95a",
   "metadata": {},
   "source": [
    "The pairplot shows the correlation and the distribution of each feature's data, as well as outliers, which are primarily visible for the feature **var3**. In the next step, the boxplots should help identify outliers in the dataset."
   ]
  },
  {
   "cell_type": "code",
   "execution_count": null,
   "id": "2c613330-b306-40ef-b0c7-61c3d9c2299c",
   "metadata": {},
   "outputs": [],
   "source": [
    "key = df.columns[1:-1]\n",
    "\n",
    "def plboxp(df,key,fnam):\n",
    "    fig, ax = plt.subplots(1,len(key),figsize=(9,3))\n",
    "    for i,k in enumerate(key):\n",
    "        sns.boxplot(data=df,y=k,x='group',hue='group',fill=False,ax=ax[i],orient='v')\n",
    "    \n",
    "    fig.tight_layout()\n",
    "    fig.savefig(pDir + fnam + '.png',dpi=150)\n",
    "\n",
    "plboxp(df,key,'boxplot-all')\n"
   ]
  },
  {
   "cell_type": "markdown",
   "id": "627284f4-195e-4088-95d2-e6073770fabe",
   "metadata": {},
   "source": [
    "The boxplots presented above showed two variables with outliers: **var1** and **var3**. The next step is to remove the outliers from the entire dataset and check data by boxplots again. This will obviously reduce the number of data points."
   ]
  },
  {
   "cell_type": "code",
   "execution_count": null,
   "id": "64523ef1-1b5d-43da-a976-69435fda817e",
   "metadata": {},
   "outputs": [],
   "source": [
    "def outlim(ser):\n",
    "    iqr = np.diff(np.percentile(ser,[25,75]))[0]\n",
    "    med = np.median(ser)\n",
    "    return(med-1.5*iqr,med+1.5*iqr)\n",
    "dfn = pd.DataFrame()\n",
    "\n",
    "for g in ['group1','group2']:\n",
    "    kg = df.group == g\n",
    "    dfi = df[kg]\n",
    "    k = True\n",
    "    for ke in key:\n",
    "        lLim,uLim = outlim(dfi[ke])\n",
    "        k1 = (dfi[ke]<=uLim) & (dfi[ke]>=lLim)\n",
    "        k = k*k1\n",
    "\n",
    "    dfn = pd.concat([dfn,dfi[k]])\n",
    "\n",
    "print('   Size of original dataset:',df.shape[0])\n",
    "print('Size of dataset wo outliers:',dfn.shape[0])\n",
    "plboxp(dfn,key,'boxplot-clean')\n",
    "\n",
    "fig = sns.pairplot(dfn,kind='reg', diag_kind='kde',corner=True,hue='group',aspect=1)\n",
    "fig.savefig(pDir + 'pairplot-clean.png',dpi=150)"
   ]
  },
  {
   "cell_type": "markdown",
   "id": "acb36dae-fc24-4f1f-9ab5-e5b5395691e1",
   "metadata": {},
   "source": [
    "## Building regression model"
   ]
  },
  {
   "cell_type": "code",
   "execution_count": null,
   "id": "a062cd31-1344-47c9-b28b-85092419335b",
   "metadata": {},
   "outputs": [],
   "source": [
    "npow =  {'group1':[3.0,1.0,-.5,2.0,2.0],\n",
    "         'group2':[2.0,1.0,1.0,1.0,2.0]}\n",
    "\n",
    "SEED = 1311131\n",
    "\n",
    "\n",
    "y = dfn.dependent\n",
    "X = pd.DataFrame()\n",
    "\n",
    "model_name = ['LinearRegression','Ridge','ElasticNet']\n",
    "model      = [LinearRegression(fit_intercept=True),\n",
    "              Ridge(fit_intercept=True),\n",
    "              ElasticNet(fit_intercept=True)]\n",
    "\n",
    "p_dist = {'ElasticNet':{ 'alpha' : np.linspace(0.1,99.9,990), 'l1_ratio' : np.linspace(0.1,0.9,9),'tol' : [1e-4,1e-3,1e-2,1e-1]},\n",
    "          'Ridge':{'alpha' : np.linspace(0.1,.9,990)},\n",
    "         }\n",
    "\n",
    "col = ['#1f77b4','#ff7f0e','#2ca02c']\n",
    "mar = ['s','<','o']\n",
    "\n",
    "fig,ax = plt.subplots(1,2,figsize=(9,4))\n",
    "fig.suptitle('Correlation Plots')\n",
    "\n",
    "fiq,axq = plt.subplots(1,2,figsize=(9,4))\n",
    "fiq.suptitle('Q-Q Residual Plots')\n",
    "\n",
    "for i,g in enumerate(['group1','group2']):\n",
    "    for ii,n in enumerate(npow[g]):\n",
    "        X[key[ii]] = dfn[key[ii]]**n\n",
    "\n",
    "    k = dfn.group == g\n",
    "\n",
    "    X_train, X_test, y_train, y_test = train_test_split(X[k], y[k], test_size = 0.3 , random_state = SEED)\n",
    "\n",
    "    vpr = []\n",
    "\n",
    "    print('\\n%8s metrics'%(g))\n",
    "    s = [100,50,25]\n",
    "\n",
    "    for ii,m in enumerate(model):\n",
    "\n",
    "        if model_name[ii] != 'LinearRegression':\n",
    "            rsh = RandomizedSearchCV(estimator=m, param_distributions=p_dist[model_name[ii]])\n",
    "            rsh.fit(X_train, y_train)\n",
    "            bp = rsh.best_params_\n",
    "            m.set_params(**bp)\n",
    "\n",
    "        m.fit(X_train,y_train)\n",
    "        y_pred = m.predict(X_test)\n",
    "        vpr.append(y_pred)\n",
    "\n",
    "        print('%12s'%model_name[ii])\n",
    "        print('%16s:%8.5f'%('R^2',m.score(X_test,y_test)))\n",
    "        print('%16s:%8.1f'%('RMSE',rmse(y_pred,y_test)))\n",
    "\n",
    "        res = np.abs(y_test-m.predict(X_test))*10\n",
    "        \n",
    "        ###### Correlation Plots\n",
    "        ax[i].scatter(y_test,y_pred,ec=col[ii],marker=mar[ii],fc=col[ii]+'22',label=model_name[ii])\n",
    "\n",
    "        #### Q-Q Residual Plots\n",
    "        fiq = sm.qqplot(res, marker = mar[ii], markeredgecolor=col[ii], markerfacecolor=col[ii]+'22', ax=axq[i], fit=True,\n",
    "                        line='45', label=model_name[ii])\n",
    "        axq[i].set_title(g)\n",
    "        axq[i].set_aspect(1)\n",
    "\n",
    "    \n",
    "    print()\n",
    "    ax[0].legend(frameon=False)\n",
    "    axq[0].legend(frameon=False)\n",
    "    xL = [min(y_test),max(y_test)]\n",
    "    ax[i].plot(xL,xL,c='tab:red')\n",
    "    ax[i].set_aspect(1)\n",
    "    ax[i].set_title(g)\n",
    "\n",
    "    dfr = pd.DataFrame(data=vpr).T\n",
    "    dfr.columns = model_name\n",
    "    dfr = pd.concat([y_test.reset_index(drop=True),dfr],axis=1)\n",
    "    display(dfr.head())\n",
    "    display(dfr.describe())\n",
    "    "
   ]
  },
  {
   "cell_type": "code",
   "execution_count": null,
   "id": "46c38c30-cfe0-4117-8f82-a1d2f01c3816",
   "metadata": {},
   "outputs": [],
   "source": []
  }
 ],
 "metadata": {
  "kernelspec": {
   "display_name": "Python 3 (ipykernel)",
   "language": "python",
   "name": "python3"
  },
  "language_info": {
   "codemirror_mode": {
    "name": "ipython",
    "version": 3
   },
   "file_extension": ".py",
   "mimetype": "text/x-python",
   "name": "python",
   "nbconvert_exporter": "python",
   "pygments_lexer": "ipython3",
   "version": "3.12.5"
  }
 },
 "nbformat": 4,
 "nbformat_minor": 5
}
